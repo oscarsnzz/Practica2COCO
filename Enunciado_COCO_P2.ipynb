{
 "cells": [
  {
   "cell_type": "markdown",
   "metadata": {
    "id": "Cmku494ZkoxN"
   },
   "source": [
    "Universidad Francisco de Vitoria<br>\n",
    "Grado en Ingeniería Informática\n",
    "\n",
    "<hr>\n",
    "\n",
    "# Complejidad Computacional\n",
    "## Práctica 2: Divide y Vencerás"
   ]
  },
  {
   "cell_type": "markdown",
   "metadata": {
    "id": "K36oUpWO9MLQ"
   },
   "source": [
    "### Introducción"
   ]
  },
  {
   "cell_type": "markdown",
   "metadata": {
    "id": "7eTmCeifGdX6"
   },
   "source": [
    "El presente notebook está diseñado para que los estudiantes apliquen de forma práctica sus conocimientos sobre algoritmos, complejidad computacional y paradigmas de la programación. A través de la programación en Python dentro de un entorno Jupyter, los alumnos desarrollarán diferentes actividades relacionadas con el paradigma de programación Divide y Vencerás"
   ]
  },
  {
   "cell_type": "markdown",
   "metadata": {
    "id": "we3ec_nmqXTb"
   },
   "source": [
    "### Apartado 1: Karatsuba\n",
    "\n",
    "El algoritmo de Karatsuba es un método eficiente para multiplicar números grandes, basado en el paradigma de programación divide y vencerás. Fue desarrollado por Anatolii Alexeevitch Karatsuba en 1962 y reduce el número de multiplicaciones requeridas para multiplicar dos números de $n$ dígitos. \n",
    "\n",
    "Se suponen dos números grandes, $x$ e $y$, que se quieren multiplicar. En lugar de realizar la multiplicación directamente, el algoritmo de Karatsuba divide estos números en partes más pequeñas y realiza una serie de cálculos que llevan a un resultado más eficiente.\n",
    "\n",
    "1. Se divide cada número en dos partes de tamaño similar:\n",
    "   - Para un número $x$ de $n$ dígitos, se puede dividir en dos partes:\n",
    "     - $x_{\\text{left}}$: los primeros $n/2$ dígitos.\n",
    "     - $x_{\\text{right}}$: los últimos $n/2$ dígitos.\n",
    "   - Lo mismo aplica para el número $y$, dividiéndolo en $y_{\\text{left}}$ e $y_{\\text{right}}$.\n",
    "\n",
    "2. Se calculan los productos parciales:\n",
    "   - $P1 = x_{\\text{left}} \\times y_{\\text{left}}$\n",
    "   - $P2 = x_{\\text{right}} \\times y_{\\text{right}}$\n",
    "   - $P3 = (x_{\\text{left}} + x_{\\text{right}}) \\times (y_{\\text{left}} + y_{\\text{right}})$\n",
    "\n",
    "3. Se aplica la relación de Karatsuba para reducir el número de multiplicaciones:\n",
    "   - El resultado se calcula combinando estos productos:\n",
    "     $$\n",
    "     \\text{Resultado} = P1 \\times 10^n + (P3 - P1 - P2) \\times 10^{n/2} + P2\n",
    "     $$\n",
    "   - Aquí, el término $(P3 - P1 - P2)$ utiliza la aritmética para obtener el resultado final sin requerir todas las multiplicaciones individuales.\n",
    "\n",
    "\n",
    "El algoritmo reduce la complejidad de la multiplicación de $O(n^2)$ a aproximadamente $O(n^{\\log_2 3})$ (alrededor de $O(n^{1.585})$), lo que es una mejora significativa para números grandes.\n",
    "\n",
    "**1.1) Implementad el algoritmo de Karatsuba.**"
   ]
  },
  {
   "cell_type": "code",
   "execution_count": null,
   "metadata": {},
   "outputs": [],
   "source": [
    "# Implementación de la función \"karatsuba\".\n",
    "# Función karatsuba\n",
    "#   Parámetros:\n",
    "#       - a: int // Es el primer número de la multiplicación\n",
    "#       - b: int // Es el segundo número de la multiplicación\n",
    "\n",
    "def karatsuba(n1,n2):\n",
    "\n",
    "    # Caso Base: En karatsuba el caso base se lleva a cabo cuando los números son lo suficientemente pequeños como para multiplicarlos directamente con el objetivo de reducir el coste computacional como se indica en el enunciado.\n",
    "    # En este caso declaramos el caso base cuando uno de los dos números que se están multiplicando es menor que 10. Por lo que se puede ver en la condición con que uno de los dos números sea menor que 10 sería sufciente.\n",
    "    if n1 < 10 or n2 < 10:\n",
    "        return n1 * n2\n",
    "    \n",
    "    #####################\n",
    "    ### En este bloque se implementa la lógica que va a dividir los números en dos partes (Divide y vencerás).\n",
    "\n",
    "    #Calcular el número de dígitos de los números\n",
    "    # - numDigitos: hace referencia al número de dígitos que tienen los números que multiplicamos\n",
    "    # - mitadNumDigitos: Es la división (con resultado entero) entre 2 del número de dígitos de los números que multiplicamos\n",
    "    numDigitos = max(len(str(n1)), len(str(n2)))\n",
    "    mitadNumDigitos = numDigitos // 2 # Hacemos uso del operador \"//\" para realizar la división con resultado entero\n",
    "\n",
    "    # Dividir los números en dos mitades\n",
    "    n1Izquierda = n1 // 10 ** mitadNumDigitos\n",
    "    n1Derecha = n1 % 10 ** mitadNumDigitos # utilizamos el operador \"%\" para coger los últimos \"mitadNumDigitos\" del número\n",
    "\n",
    "    n2Izquierda = n2 // 10 ** mitadNumDigitos\n",
    "    n2Derecha = n2 % 10 ** mitadNumDigitos\n",
    "\n",
    "    ###################\n",
    "    ### En este bloque se implementa la lógica de los productos parciales de la multiplicación de karatsuba\n",
    "\n",
    "    # Producto parcial 1: Tal y como se indica en el enunciado sería, prodParcial1 = (n1Izquierda + n2Izquierda)\n",
    "    # Como lo que buscamos es la mayor eficiencia para números grandes hay que hacer una llamada recursiva a la función \"karatsuba\" para que siga dividiendo por la mitad las mitades que todavía no sean lo suficientemente pequeñas.\n",
    "    prodParcial1 = karatsuba(n1Izquierda, n2Izquierda)\n",
    "\n",
    "    # Producto parcial 2: Tal y como se indica en el enunciado sería, prodParcial2 = (n1Derecha + n2Derecha)\n",
    "    # Como lo que buscamos es la mayor eficiencia para números grandes hay que hacer una llamada recursiva a la función \"karatsuba\" para que siga dividiendo por la mitad las mitades que todavía no sean lo suficientemente pequeñas.\n",
    "    prodParcial2 = karatsuba(n1Derecha, n2Derecha)\n",
    "\n",
    "    # Producto parcial 3: Tal y como se indica en el enunciado sería, prodParcial3 = ((n1Izquierda + n1Derecha) * (n2Izquierda + n2Derecha))\n",
    "    # Como lo que buscamos es la mayor eficiencia para números grandes hay que hacer una llamada recursiva a la función \"karatsuba\" para que siga dividiendo por la mitad las mitades que todavía no sean lo suficientemente pequeñas.\n",
    "    prodParcial3 = karatsuba(n1Izquierda + n1Derecha, n2Izquierda + n2Derecha)\n",
    "\n",
    "    ########################\n",
    "    ### Resultado de la multiplicación de karatsuba \n",
    "    resultado = prodParcial1 * 10**(2 * mitadNumDigitos) + (prodParcial3 - prodParcial2 - prodParcial1) * 10**mitadNumDigitos + prodParcial2\n",
    "\n",
    "    return resultado\n",
    "\n",
    "\n",
    "n1 = int(input(\"Introduce el primer número: \"))\n",
    "n2 = int(input(\"Introduce el segundo número: \"))"
   ]
  },
  {
   "cell_type": "markdown",
   "metadata": {},
   "source": [
    "**1.2) Para vuestra implementación concreta, calculad el $T(n)$. En este caso, puede que lo defináis como $T(a,b)$.**"
   ]
  },
  {
   "cell_type": "markdown",
   "metadata": {},
   "source": [
    "### Apartado 2: Comparativa de DyV con respecto a la aproximación clásica\n",
    "\n",
    "**2.1) Elegid 20 pares de números grandes (podéis generarlos con un generador de números aleatorios) y multiplicadlos haciendo uso, por un lado de vuestro algoritmo y por otro lado, de la multiplicación clásica (*). Para ello, debéis usar la clase `Multiplicacion`.**\n",
    "\n",
    "**2.2) Comparad en términos temporales la ejecución de las multiplicaciones y graficad dichos resultados (el eje X debe ser el número de cifras que tenían los números que se multiplicaban y el eje Y el tiempo en milisegundos que ha tardado en devolver el resultado). ¿Qué conclusiones podéis sacar?**\n",
    "\n",
    "**2.3) ¿Qué sucede si en lugar de multiplicar números muy grandes se multiplican números muy pequeños?**\n"
   ]
  },
  {
   "cell_type": "code",
   "execution_count": null,
   "metadata": {},
   "outputs": [],
   "source": [
    "import time # usad esta librería para calcular los tiempos de ejecución de cada método\n",
    "\n",
    "\n",
    "class Multiplicacion():\n",
    "    def __init__(self, a, b):\n",
    "        self.a = a # número grande 1\n",
    "        self.b = b # número grande 2\n",
    "        self.result = 0 # resultado\n",
    "        self.t_mult = 0 # tiempo en ejecutar la multiplicación clásica\n",
    "        self.t_kara = 0 # tiempo en ejecutar la multiplicación por karatsuba\n",
    "    \n",
    "    def mult_clasica(self):\n",
    "        pass\n",
    "\n",
    "    def mult_karatsuba(self):\n",
    "        pass\n",
    "\n",
    "multiplicaciones = [] # lista que contendrá las instancias de la clase Multiplicacion, se usa también en el apartado 3"
   ]
  },
  {
   "cell_type": "markdown",
   "metadata": {},
   "source": [
    "### Apartado 3: Búsqueda binaria\n",
    "**3.1) Dados los resultados del apartado anterior, ordenad las instancias de las clases en función ascendente del tiempo `t_kara` y, aplicando búsqueda binaria, mostrad la instancia de la clase `Multiplicacion` cuyo `t_kara` se aproxima más a 1 segundo.**\n",
    "\n",
    "**3.2) Ahora, ordenad los resultados en función ascendente del tiempo `t_mult` y aplicando búsqueda binaria, mostrad la instancia de la clase `Multiplicacion` cuyo `t_kara` se aproxima más a 1 segundo. ¿Qué sucede?**\n"
   ]
  },
  {
   "cell_type": "code",
   "execution_count": null,
   "metadata": {},
   "outputs": [],
   "source": [
    "# import ordenacion_qs\n",
    "# def ordenacion_qs():\n",
    "#     pass\n",
    "# def ordenacion_selection():\n",
    "#     pass\n",
    "# ....\n",
    "\n",
    "multiplicaciones_ordenadas = []\n",
    "\n",
    "def busqueda_binaria():\n",
    "    pass"
   ]
  },
  {
   "cell_type": "markdown",
   "metadata": {},
   "source": [
    "### Apartado 4: La convolución\n",
    "\n",
    "La convolución es una operación matemática que combina dos funciones para producir una tercera función. En el contexto de señales y sistemas, la convolución se utiliza para aplicar filtros a las señales. \n",
    "\n",
    "La convolución discreta es una operación matemática que permite combinar dos secuencias de datos (como señales) para obtener una nueva secuencia que representa el efecto de aplicar una \"respuesta\" o \"filtro\" a la señal original. La convolución discreta entre dos secuencias $x[n]$ y $h[n]$ es una operación conmutativa que se define de la siguiente manera:\n",
    "\n",
    "$$\n",
    "y[n] = \\sum_{k=0}^{N-1} x[k] \\cdot h[n - k]\n",
    "$$\n",
    "\n",
    "donde $y[n]$ es el resultado de la convolución, y $N$ es la longitud de las secuencias. En procesamiento de señales, esta operación es útil para aplicar filtros y modificar las características de una señal.\n",
    "\n",
    "[Vídeo recomendado](https://youtu.be/KuXjwB4LzSA?si=wENdsEvWMhDwoJgj)\n",
    "\n",
    "**4.1) Investigad y responded brevemente:**\n",
    "   - ¿Qué es la convolución discreta y cómo se utiliza en procesamiento de señales?\n",
    "   - ¿Por qué se utiliza el paradigma de divide y vencerás para optimizar este cálculo en secuencias grandes?\n",
    "\n",
    "**4.2) Considerando que los arrays `multiplicaciones_ordenadas->t_kara` y `multiplicaciones_ordenadas->t_mul` son dos arrays de señales, escribid una función que realice la convolución discreta entre dichos arrays aplicando el paradigma de divide y vencerás.**\n"
   ]
  },
  {
   "cell_type": "code",
   "execution_count": null,
   "metadata": {},
   "outputs": [],
   "source": [
    "def convolucion_DyV(a, b):\n",
    "    pass"
   ]
  },
  {
   "cell_type": "markdown",
   "metadata": {},
   "source": [
    "**4.3) Calculad el $T(n)$ de la función concreta que desarrolleis.**"
   ]
  }
 ],
 "metadata": {
  "colab": {
   "collapsed_sections": [
    "we3ec_nmqXTb",
    "JmdyuK49OUIQ",
    "udYC3iGR3mTx",
    "CthJqA6a32-K",
    "_5hAKNxWR_Cp"
   ],
   "provenance": []
  },
  "kernelspec": {
   "display_name": "Python 3",
   "language": "python",
   "name": "python3"
  },
  "language_info": {
   "codemirror_mode": {
    "name": "ipython",
    "version": 3
   },
   "file_extension": ".py",
   "mimetype": "text/x-python",
   "name": "python",
   "nbconvert_exporter": "python",
   "pygments_lexer": "ipython3",
   "version": "3.11.9"
  }
 },
 "nbformat": 4,
 "nbformat_minor": 0
}
